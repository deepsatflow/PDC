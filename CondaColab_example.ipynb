{
  "nbformat": 4,
  "nbformat_minor": 0,
  "metadata": {
    "colab": {
      "provenance": [],
      "include_colab_link": true
    },
    "kernelspec": {
      "display_name": "Python 3",
      "name": "python3"
    },
    "accelerator": "GPU"
  },
  "cells": [
    {
      "cell_type": "markdown",
      "metadata": {
        "id": "view-in-github",
        "colab_type": "text"
      },
      "source": [
        "<a href=\"https://colab.research.google.com/github/deepsatflow/adaptyv-bio-pdc/blob/main/CondaColab_example.ipynb\" target=\"_parent\"><img src=\"https://colab.research.google.com/assets/colab-badge.svg\" alt=\"Open In Colab\"/></a>"
      ]
    },
    {
      "cell_type": "markdown",
      "metadata": {
        "id": "DBzkeuwE5oUV"
      },
      "source": [
        "# Install Conda on Google Colab\n",
        "\n",
        "<!-- By Jaime Rodríguez-Guerra <@jaimergp>. Last modified 2022.08.26 -->\n",
        "\n",
        "`condacolab` simplifies the setup as much as possible, but there are some gotchas.\n",
        "\n",
        "**⚠️ Read this before continuing!**\n",
        "\n",
        "* The `condacolab` commands need to be run as the first Code cell!\n",
        "* Once you run `condacolab.install()`, the Python kernel will be restarted. This is **normal and expected**. After that, you can continue running the cells below like normal.\n",
        "* Do not use the `Run all` option. Run the `condacolab` cell _individually_ and wait for the kernel to restart. **Only then**, you can run all cells if you want.\n",
        "* You can only use the `base` environment. Do not try to create new ones; instead update `base` with either:\n",
        "  * `conda install <packages>`\n",
        "  * `conda env update -n base -f environment.yml`\n",
        "* If you want to use GPUs, make sure you are using such an instance before starting!\n",
        "* If you get an error, please raise an issue [here](https://github.com/jaimergp/condacolab/issues)."
      ]
    },
    {
      "cell_type": "code",
      "metadata": {
        "colab": {
          "base_uri": "https://localhost:8080/"
        },
        "id": "LAZ11nESX6qt",
        "outputId": "db00341d-7f48-40f7-928e-4aeb69ef4711"
      },
      "source": [
        "!pip install -q condacolab\n",
        "import condacolab\n",
        "condacolab.install()"
      ],
      "execution_count": 1,
      "outputs": [
        {
          "output_type": "stream",
          "name": "stdout",
          "text": [
            "⏬ Downloading https://github.com/conda-forge/miniforge/releases/download/23.11.0-0/Mambaforge-23.11.0-0-Linux-x86_64.sh...\n",
            "📦 Installing...\n",
            "📌 Adjusting configuration...\n",
            "🩹 Patching environment...\n",
            "⏲ Done in 0:00:11\n",
            "🔁 Restarting kernel...\n"
          ]
        }
      ]
    },
    {
      "cell_type": "code",
      "metadata": {
        "colab": {
          "base_uri": "https://localhost:8080/"
        },
        "id": "wRDyL3hPYAOx",
        "outputId": "508a4eee-c4de-49d6-a8f9-23c1badc8880"
      },
      "source": [
        "import condacolab\n",
        "condacolab.check()"
      ],
      "execution_count": 1,
      "outputs": [
        {
          "output_type": "stream",
          "name": "stdout",
          "text": [
            "✨🍰✨ Everything looks OK!\n"
          ]
        }
      ]
    },
    {
      "cell_type": "code",
      "source": [
        "!git clone https://github.com/nrbennet/dl_binder_design.git"
      ],
      "metadata": {
        "id": "jj6AG_nT7U4Y",
        "outputId": "49a08720-ac03-428f-de1c-99f24df07d09",
        "colab": {
          "base_uri": "https://localhost:8080/"
        }
      },
      "execution_count": 6,
      "outputs": [
        {
          "output_type": "stream",
          "name": "stdout",
          "text": [
            "Cloning into 'dl_binder_design'...\n",
            "remote: Enumerating objects: 545, done.\u001b[K\n",
            "remote: Counting objects: 100% (111/111), done.\u001b[K\n",
            "remote: Compressing objects: 100% (86/86), done.\u001b[K\n",
            "remote: Total 545 (delta 44), reused 28 (delta 25), pack-reused 434 (from 1)\u001b[K\n",
            "Receiving objects: 100% (545/545), 6.04 MiB | 16.86 MiB/s, done.\n",
            "Resolving deltas: 100% (182/182), done.\n"
          ]
        }
      ]
    },
    {
      "cell_type": "code",
      "source": [
        "!cp -r dl_binder_design/include/*.yml ."
      ],
      "metadata": {
        "id": "jQCJyBtG8Wl3"
      },
      "execution_count": 8,
      "outputs": []
    },
    {
      "cell_type": "code",
      "source": [
        "!conda env update -n base -f af2_binder_design.yml"
      ],
      "metadata": {
        "id": "KPFNFO2n6wv6",
        "outputId": "4b75ee2e-021e-40e3-e827-18ae397a5e20",
        "colab": {
          "base_uri": "https://localhost:8080/"
        }
      },
      "execution_count": 9,
      "outputs": [
        {
          "output_type": "stream",
          "name": "stdout",
          "text": [
            "Channels:\n",
            " - pytorch\n",
            " - nvidia\n",
            " - conda-forge\n",
            " - defaults\n",
            "Platform: linux-64\n",
            "Collecting package metadata (repodata.json): - \b\b\\ \b\b| \b\b/ \b\b- \b\b\\ \b\b| \b\b/ \b\b- \b\b\\ \b\b| \b\b/ \b\b- \b\b\\ \b\b| \b\b/ \b\b- \b\b\\ \b\b| \b\b/ \b\b- \b\b\\ \b\b| \b\b/ \b\b- \b\b\\ \b\b| \b\b/ \b\b- \b\b\\ \b\b| \b\b/ \b\b- \b\b\\ \b\b| \b\b/ \b\b- \b\b\\ \b\b| \b\b/ \b\b- \b\b\\ \b\b| \b\b/ \b\b- \b\b\\ \b\b| \b\b/ \b\b- \b\b\\ \b\b| \b\b/ \b\b- \b\b\\ \b\b| \b\b/ \b\b- \b\b\\ \b\b| \b\b/ \b\b- \b\b\\ \b\b| \b\b/ \b\b- \b\b\\ \b\b| \b\b/ \b\b- \b\b\\ \b\b| \b\b/ \b\b- \b\b\\ \b\b| \b\b/ \b\b- \b\b\\ \b\b| \b\b/ \b\b- \b\b\\ \b\b| \b\b/ \b\b- \b\b\\ \b\b| \b\b/ \b\b- \b\b\\ \b\b| \b\b/ \b\b- \b\b\\ \b\b| \b\b/ \b\b- \b\b\\ \b\b| \b\b/ \b\b- \b\b\\ \b\b| \b\b/ \b\b- \b\b\\ \b\b| \b\b/ \b\b- \b\b\\ \b\b| \b\b/ \b\b- \b\b\\ \b\b| \b\b/ \b\b- \b\b\\ \b\b| \b\b/ \b\b- \b\b\\ \b\b| \b\b/ \b\b- \b\b\\ \b\b| \b\b/ \b\b- \b\b\\ \b\b| \b\b/ \b\b- \b\b\\ \b\b| \b\b/ \b\b- \b\b\\ \b\b| \b\b/ \b\b- \b\b\\ \b\b| \b\b/ \b\b- \b\b\\ \b\b| \b\b/ \b\b- \b\b\\ \b\b| \b\b/ \b\b- \b\b\\ \b\b| \b\b/ \b\b- \b\b\\ \b\b| \b\b/ \b\b- \b\b\\ \b\b| \b\b/ \b\b- \b\b\\ \b\b| \b\b/ \b\b- \b\b\\ \b\b| \b\b/ \b\b- \b\b\\ \b\b| \b\b/ \b\b- \b\b\\ \b\b| \b\b/ \b\b- \b\b\\ \b\b| \b\b/ \b\b- \b\b\\ \b\b| \b\b/ \b\b- \b\b\\ \b\b| \b\b/ \b\b- \b\b\\ \b\b| \b\b/ \b\b- \b\b\\ \b\b| \b\b/ \b\b- \b\b\\ \b\b| \b\b/ \b\b- \b\b\\ \b\b| \b\b/ \b\b- \b\b\\ \b\b| \b\b/ \b\b- \b\b\\ \b\b| \b\b/ \b\b- \b\b\\ \b\b| \b\b/ \b\bdone\n",
            "Solving environment: \\ \b\b| \b\bfailed\n",
            "\n",
            "SpecsConfigurationConflictError: Requested specs conflict with configured specs.\n",
            "  requested specs: \n",
            "    - biopython\n",
            "    - ml-collections\n",
            "    - ml_dtypes\n",
            "    - mock\n",
            "    - pip\n",
            "    - pyrosetta\n",
            "    - python=3.11\n",
            "    - tensorflow\n",
            "  pinned specs: \n",
            "    - cuda-version=12\n",
            "    - python=3.10\n",
            "    - python_abi=3.10[build=*cp310*]\n",
            "Use 'conda config --show-sources' to look for 'pinned_specs' and 'track_features'\n",
            "configuration parameters.  Pinned specs may also be defined in the file\n",
            "/usr/local/conda-meta/pinned.\n",
            "\n",
            "\n"
          ]
        }
      ]
    },
    {
      "cell_type": "code",
      "source": [
        "!conda list"
      ],
      "metadata": {
        "id": "yynrMoTN7IqH",
        "outputId": "ce70843e-46e0-4545-8df4-a6bcbc43ca49",
        "colab": {
          "base_uri": "https://localhost:8080/"
        }
      },
      "execution_count": 10,
      "outputs": [
        {
          "output_type": "stream",
          "name": "stdout",
          "text": [
            "# packages in environment at /usr/local:\n",
            "#\n",
            "# Name                    Version                   Build  Channel\n",
            "_libgcc_mutex             0.1                 conda_forge    conda-forge\n",
            "_openmp_mutex             4.5                       2_gnu    conda-forge\n",
            "archspec                  0.2.2              pyhd8ed1ab_0    conda-forge\n",
            "boltons                   23.1.1             pyhd8ed1ab_0    conda-forge\n",
            "brotli-python             1.1.0           py310hc6cd4ac_1    conda-forge\n",
            "bzip2                     1.0.8                hd590300_5    conda-forge\n",
            "c-ares                    1.24.0               hd590300_0    conda-forge\n",
            "ca-certificates           2023.11.17           hbcca054_0    conda-forge\n",
            "certifi                   2023.11.17         pyhd8ed1ab_0    conda-forge\n",
            "cffi                      1.16.0          py310h2fee648_0    conda-forge\n",
            "charset-normalizer        3.3.2              pyhd8ed1ab_0    conda-forge\n",
            "colorama                  0.4.6              pyhd8ed1ab_0    conda-forge\n",
            "conda                     23.11.0         py310hff52083_1    conda-forge\n",
            "conda-libmamba-solver     23.12.0            pyhd8ed1ab_0    conda-forge\n",
            "conda-package-handling    2.2.0              pyh38be061_0    conda-forge\n",
            "conda-package-streaming   0.9.0              pyhd8ed1ab_0    conda-forge\n",
            "distro                    1.8.0              pyhd8ed1ab_0    conda-forge\n",
            "fmt                       10.1.1               h00ab1b0_1    conda-forge\n",
            "icu                       73.2                 h59595ed_0    conda-forge\n",
            "idna                      3.6                pyhd8ed1ab_0    conda-forge\n",
            "jsonpatch                 1.33               pyhd8ed1ab_0    conda-forge\n",
            "jsonpointer               2.4             py310hff52083_3    conda-forge\n",
            "keyutils                  1.6.1                h166bdaf_0    conda-forge\n",
            "krb5                      1.21.2               h659d440_0    conda-forge\n",
            "ld_impl_linux-64          2.40                 h41732ed_0    conda-forge\n",
            "libarchive                3.7.2                h2aa1ff5_1    conda-forge\n",
            "libcurl                   8.5.0                hca28451_0    conda-forge\n",
            "libedit                   3.1.20191231         he28a2e2_2    conda-forge\n",
            "libev                     4.33                 hd590300_2    conda-forge\n",
            "libffi                    3.4.2                h7f98852_5    conda-forge\n",
            "libgcc-ng                 13.2.0               h807b86a_3    conda-forge\n",
            "libgomp                   13.2.0               h807b86a_3    conda-forge\n",
            "libiconv                  1.17                 hd590300_2    conda-forge\n",
            "libmamba                  1.5.5                had39da4_0    conda-forge\n",
            "libmambapy                1.5.5           py310h39ff949_0    conda-forge\n",
            "libnghttp2                1.58.0               h47da74e_1    conda-forge\n",
            "libnsl                    2.0.1                hd590300_0    conda-forge\n",
            "libsolv                   0.7.27               hfc55251_0    conda-forge\n",
            "libsqlite                 3.44.2               h2797004_0    conda-forge\n",
            "libssh2                   1.11.0               h0841786_0    conda-forge\n",
            "libstdcxx-ng              13.2.0               h7e041cc_3    conda-forge\n",
            "libuuid                   2.38.1               h0b41bf4_0    conda-forge\n",
            "libxml2                   2.12.3               h232c23b_0    conda-forge\n",
            "libzlib                   1.2.13               hd590300_5    conda-forge\n",
            "lz4-c                     1.9.4                hcb278e6_0    conda-forge\n",
            "lzo                       2.10              h516909a_1000    conda-forge\n",
            "mamba                     1.5.5           py310h51d5547_0    conda-forge\n",
            "menuinst                  2.0.1           py310hff52083_0    conda-forge\n",
            "ncurses                   6.4                  h59595ed_2    conda-forge\n",
            "openssl                   3.2.0                hd590300_1    conda-forge\n",
            "packaging                 23.2               pyhd8ed1ab_0    conda-forge\n",
            "pip                       23.3.2             pyhd8ed1ab_0    conda-forge\n",
            "platformdirs              4.1.0              pyhd8ed1ab_0    conda-forge\n",
            "pluggy                    1.3.0              pyhd8ed1ab_0    conda-forge\n",
            "pybind11-abi              4                    hd8ed1ab_3    conda-forge\n",
            "pycosat                   0.6.6           py310h2372a71_0    conda-forge\n",
            "pycparser                 2.21               pyhd8ed1ab_0    conda-forge\n",
            "pysocks                   1.7.1              pyha2e5f31_6    conda-forge\n",
            "python                    3.10.13         hd12c33a_0_cpython    conda-forge\n",
            "python_abi                3.10                    4_cp310    conda-forge\n",
            "readline                  8.2                  h8228510_1    conda-forge\n",
            "reproc                    14.2.4.post0         hd590300_1    conda-forge\n",
            "reproc-cpp                14.2.4.post0         h59595ed_1    conda-forge\n",
            "requests                  2.31.0             pyhd8ed1ab_0    conda-forge\n",
            "ruamel.yaml               0.18.5          py310h2372a71_0    conda-forge\n",
            "ruamel.yaml.clib          0.2.7           py310h2372a71_2    conda-forge\n",
            "setuptools                68.2.2             pyhd8ed1ab_0    conda-forge\n",
            "tk                        8.6.13          noxft_h4845f30_101    conda-forge\n",
            "tqdm                      4.66.1             pyhd8ed1ab_0    conda-forge\n",
            "truststore                0.8.0              pyhd8ed1ab_0    conda-forge\n",
            "tzdata                    2023c                h71feb2d_0    conda-forge\n",
            "urllib3                   2.1.0              pyhd8ed1ab_0    conda-forge\n",
            "wheel                     0.42.0             pyhd8ed1ab_0    conda-forge\n",
            "xz                        5.2.6                h166bdaf_0    conda-forge\n",
            "yaml-cpp                  0.8.0                h59595ed_0    conda-forge\n",
            "zstandard                 0.22.0          py310h1275a96_0    conda-forge\n",
            "zstd                      1.5.5                hfc55251_0    conda-forge\n"
          ]
        }
      ]
    },
    {
      "cell_type": "markdown",
      "metadata": {
        "id": "qEik8oTP74T7"
      },
      "source": [
        "For the CUDA platform to be available, make sure you are using a GPU environment."
      ]
    },
    {
      "cell_type": "code",
      "metadata": {
        "colab": {
          "base_uri": "https://localhost:8080/"
        },
        "id": "hQzulZQF15aD",
        "outputId": "9861996c-fbde-457c-a26d-860e8fc314c3"
      },
      "source": [
        "from simtk.testInstallation import main\n",
        "main()"
      ],
      "execution_count": null,
      "outputs": [
        {
          "output_type": "stream",
          "text": [
            "\n",
            "OpenMM Version: 7.5\n",
            "Git Revision: b49b82efb5a253a7c891ca084b3370e181de2ea3\n",
            "\n",
            "There are 4 Platforms available:\n",
            "\n",
            "1 Reference - Successfully computed forces\n",
            "2 CPU - Successfully computed forces\n",
            "3 CUDA - Successfully computed forces\n",
            "4 OpenCL - Successfully computed forces\n",
            "\n",
            "Median difference in forces between platforms:\n",
            "\n",
            "Reference vs. CPU: 6.29199e-06\n",
            "Reference vs. CUDA: 6.73078e-06\n",
            "CPU vs. CUDA: 7.48056e-07\n",
            "Reference vs. OpenCL: 6.75891e-06\n",
            "CPU vs. OpenCL: 8.11491e-07\n",
            "CUDA vs. OpenCL: 2.68874e-07\n",
            "\n",
            "All differences are within tolerance.\n"
          ],
          "name": "stdout"
        }
      ]
    },
    {
      "cell_type": "code",
      "source": [],
      "metadata": {
        "id": "e5MPORG86h1K"
      },
      "execution_count": null,
      "outputs": []
    }
  ]
}